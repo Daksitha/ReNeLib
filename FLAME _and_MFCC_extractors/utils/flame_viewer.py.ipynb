{
 "cells": [
  {
   "cell_type": "code",
   "execution_count": 3,
   "outputs": [
    {
     "name": "stdout",
     "output_type": "stream",
     "text": [
      "Collecting pandas\r\n",
      "  Using cached pandas-1.5.3-cp38-cp38-manylinux_2_17_x86_64.manylinux2014_x86_64.whl (12.2 MB)\r\n",
      "Requirement already satisfied: python-dateutil>=2.8.1 in /home/daksitha/Documents/AVASAG/LLB_feature_extractor/venv/lib/python3.8/site-packages (from pandas) (2.8.2)\r\n",
      "Requirement already satisfied: numpy>=1.20.3 in /home/daksitha/Documents/AVASAG/LLB_feature_extractor/venv/lib/python3.8/site-packages (from pandas) (1.23.5)\r\n",
      "Requirement already satisfied: pytz>=2020.1 in /home/daksitha/Documents/AVASAG/LLB_feature_extractor/venv/lib/python3.8/site-packages (from pandas) (2022.7.1)\r\n",
      "Requirement already satisfied: six>=1.5 in /home/daksitha/Documents/AVASAG/LLB_feature_extractor/venv/lib/python3.8/site-packages (from python-dateutil>=2.8.1->pandas) (1.16.0)\r\n",
      "Installing collected packages: pandas\r\n",
      "Successfully installed pandas-1.5.3\r\n",
      "\u001B[33mWARNING: You are using pip version 21.3.1; however, version 23.0.1 is available.\r\n",
      "You should consider upgrading via the '/home/daksitha/Documents/AVASAG/LLB_feature_extractor/venv/bin/python -m pip install --upgrade pip' command.\u001B[0m\r\n"
     ]
    }
   ],
   "source": [
    "!pip install pandas"
   ],
   "metadata": {
    "collapsed": false,
    "pycharm": {
     "name": "#%%\n"
    }
   }
  },
  {
   "cell_type": "code",
   "execution_count": 4,
   "outputs": [],
   "source": [
    "import numpy as np\n",
    "import pandas as pd\n"
   ],
   "metadata": {
    "collapsed": false,
    "pycharm": {
     "name": "#%%\n"
    }
   }
  },
  {
   "cell_type": "code",
   "execution_count": 7,
   "outputs": [],
   "source": [
    "flame_data = np.load(\"../data/videos/flame/flame_NICHT.npy\")\n"
   ],
   "metadata": {
    "collapsed": false,
    "pycharm": {
     "name": "#%%\n"
    }
   }
  },
  {
   "cell_type": "code",
   "execution_count": 8,
   "outputs": [
    {
     "data": {
      "text/plain": "(302, 56)"
     },
     "execution_count": 8,
     "metadata": {},
     "output_type": "execute_result"
    }
   ],
   "source": [
    "flame_data.shape\n"
   ],
   "metadata": {
    "collapsed": false,
    "pycharm": {
     "name": "#%%\n"
    }
   }
  },
  {
   "cell_type": "code",
   "execution_count": 10,
   "outputs": [],
   "source": [
    "df = pd.DataFrame(flame_data, columns = range(1,57))\n"
   ],
   "metadata": {
    "collapsed": false,
    "pycharm": {
     "name": "#%%\n"
    }
   }
  },
  {
   "cell_type": "code",
   "execution_count": 11,
   "outputs": [
    {
     "data": {
      "text/plain": "           1         2         3         4         5         6         7   \\\n0    0.330641  0.220042  0.130541  0.289405  0.893542  0.275174 -0.550047   \n1    0.321177  0.198699  0.189404  0.277866  0.814226  0.126923 -0.606047   \n2    0.347204  0.204008  0.223348  0.228742  0.859790  0.268884 -0.698793   \n3    0.331865  0.218402  0.218226  0.248412  0.822629  0.207531 -0.652230   \n4    0.314815  0.183711  0.254746  0.230371  0.835361  0.231037 -0.716779   \n..        ...       ...       ...       ...       ...       ...       ...   \n297  0.083951 -0.006319  0.411098  0.035862  0.871592  0.347173 -1.359752   \n298  0.116810  0.050058  0.377437  0.072040  0.952760  0.401565 -1.328874   \n299  0.082696  0.007195  0.389432  0.050970  1.005426  0.387884 -1.379863   \n300  0.091165 -0.035744  0.401265  0.047803  0.972841  0.372152 -1.408243   \n301  0.092000 -0.031499  0.399864  0.048442  0.971367  0.366155 -1.407565   \n\n           8         9         10  ...        47        48        49  \\\n0    0.810323 -0.700789  0.841139  ...  0.175128  0.136938 -0.062212   \n1    0.597273 -0.627637  0.869339  ...  0.161310  0.120823 -0.086266   \n2    0.769412 -0.653960  0.839545  ...  0.144822  0.158113 -0.090223   \n3    0.704243 -0.637932  0.828623  ...  0.149179  0.143424 -0.088408   \n4    0.716939 -0.638176  0.859849  ...  0.137109  0.151675 -0.098768   \n..        ...       ...       ...  ...       ...       ...       ...   \n297  0.564471 -0.393771  0.983035  ... -0.003468  0.211573 -0.099552   \n298  0.679609 -0.472371  0.962223  ...  0.027647  0.206709 -0.085877   \n299  0.664864 -0.514361  1.043424  ...  0.018082  0.208593 -0.105632   \n300  0.664745 -0.480663  1.044359  ...  0.020831  0.205880 -0.092735   \n301  0.663057 -0.483131  1.043745  ...  0.021207  0.205444 -0.093497   \n\n           50        51        52        53        54        55        56  \n0   -0.106761 -0.023233 -0.063036  0.000160  0.032000 -0.001237  0.026794  \n1   -0.075093 -0.027124 -0.065779 -0.000757  0.033638 -0.001635  0.025678  \n2   -0.076160 -0.025255 -0.062434 -0.001503  0.032525 -0.001218  0.025648  \n3   -0.077476 -0.026331 -0.063105 -0.000726  0.033185 -0.001450  0.025420  \n4   -0.070842 -0.029172 -0.061693  0.000689  0.032622 -0.000960  0.024414  \n..        ...       ...       ...       ...       ...       ...       ...  \n297 -0.027756 -0.068082 -0.083969  0.020375  0.035317  0.001593  0.011243  \n298 -0.028400 -0.062302 -0.080332  0.019972  0.035478  0.001493  0.010602  \n299 -0.021267 -0.059702 -0.079310  0.018482  0.031331  0.000025  0.014725  \n300 -0.035035 -0.053322 -0.079828  0.018918  0.034200  0.000502  0.010958  \n301 -0.034217 -0.053765 -0.079951  0.018875  0.034358  0.000441  0.011194  \n\n[302 rows x 56 columns]",
      "text/html": "<div>\n<style scoped>\n    .dataframe tbody tr th:only-of-type {\n        vertical-align: middle;\n    }\n\n    .dataframe tbody tr th {\n        vertical-align: top;\n    }\n\n    .dataframe thead th {\n        text-align: right;\n    }\n</style>\n<table border=\"1\" class=\"dataframe\">\n  <thead>\n    <tr style=\"text-align: right;\">\n      <th></th>\n      <th>1</th>\n      <th>2</th>\n      <th>3</th>\n      <th>4</th>\n      <th>5</th>\n      <th>6</th>\n      <th>7</th>\n      <th>8</th>\n      <th>9</th>\n      <th>10</th>\n      <th>...</th>\n      <th>47</th>\n      <th>48</th>\n      <th>49</th>\n      <th>50</th>\n      <th>51</th>\n      <th>52</th>\n      <th>53</th>\n      <th>54</th>\n      <th>55</th>\n      <th>56</th>\n    </tr>\n  </thead>\n  <tbody>\n    <tr>\n      <th>0</th>\n      <td>0.330641</td>\n      <td>0.220042</td>\n      <td>0.130541</td>\n      <td>0.289405</td>\n      <td>0.893542</td>\n      <td>0.275174</td>\n      <td>-0.550047</td>\n      <td>0.810323</td>\n      <td>-0.700789</td>\n      <td>0.841139</td>\n      <td>...</td>\n      <td>0.175128</td>\n      <td>0.136938</td>\n      <td>-0.062212</td>\n      <td>-0.106761</td>\n      <td>-0.023233</td>\n      <td>-0.063036</td>\n      <td>0.000160</td>\n      <td>0.032000</td>\n      <td>-0.001237</td>\n      <td>0.026794</td>\n    </tr>\n    <tr>\n      <th>1</th>\n      <td>0.321177</td>\n      <td>0.198699</td>\n      <td>0.189404</td>\n      <td>0.277866</td>\n      <td>0.814226</td>\n      <td>0.126923</td>\n      <td>-0.606047</td>\n      <td>0.597273</td>\n      <td>-0.627637</td>\n      <td>0.869339</td>\n      <td>...</td>\n      <td>0.161310</td>\n      <td>0.120823</td>\n      <td>-0.086266</td>\n      <td>-0.075093</td>\n      <td>-0.027124</td>\n      <td>-0.065779</td>\n      <td>-0.000757</td>\n      <td>0.033638</td>\n      <td>-0.001635</td>\n      <td>0.025678</td>\n    </tr>\n    <tr>\n      <th>2</th>\n      <td>0.347204</td>\n      <td>0.204008</td>\n      <td>0.223348</td>\n      <td>0.228742</td>\n      <td>0.859790</td>\n      <td>0.268884</td>\n      <td>-0.698793</td>\n      <td>0.769412</td>\n      <td>-0.653960</td>\n      <td>0.839545</td>\n      <td>...</td>\n      <td>0.144822</td>\n      <td>0.158113</td>\n      <td>-0.090223</td>\n      <td>-0.076160</td>\n      <td>-0.025255</td>\n      <td>-0.062434</td>\n      <td>-0.001503</td>\n      <td>0.032525</td>\n      <td>-0.001218</td>\n      <td>0.025648</td>\n    </tr>\n    <tr>\n      <th>3</th>\n      <td>0.331865</td>\n      <td>0.218402</td>\n      <td>0.218226</td>\n      <td>0.248412</td>\n      <td>0.822629</td>\n      <td>0.207531</td>\n      <td>-0.652230</td>\n      <td>0.704243</td>\n      <td>-0.637932</td>\n      <td>0.828623</td>\n      <td>...</td>\n      <td>0.149179</td>\n      <td>0.143424</td>\n      <td>-0.088408</td>\n      <td>-0.077476</td>\n      <td>-0.026331</td>\n      <td>-0.063105</td>\n      <td>-0.000726</td>\n      <td>0.033185</td>\n      <td>-0.001450</td>\n      <td>0.025420</td>\n    </tr>\n    <tr>\n      <th>4</th>\n      <td>0.314815</td>\n      <td>0.183711</td>\n      <td>0.254746</td>\n      <td>0.230371</td>\n      <td>0.835361</td>\n      <td>0.231037</td>\n      <td>-0.716779</td>\n      <td>0.716939</td>\n      <td>-0.638176</td>\n      <td>0.859849</td>\n      <td>...</td>\n      <td>0.137109</td>\n      <td>0.151675</td>\n      <td>-0.098768</td>\n      <td>-0.070842</td>\n      <td>-0.029172</td>\n      <td>-0.061693</td>\n      <td>0.000689</td>\n      <td>0.032622</td>\n      <td>-0.000960</td>\n      <td>0.024414</td>\n    </tr>\n    <tr>\n      <th>...</th>\n      <td>...</td>\n      <td>...</td>\n      <td>...</td>\n      <td>...</td>\n      <td>...</td>\n      <td>...</td>\n      <td>...</td>\n      <td>...</td>\n      <td>...</td>\n      <td>...</td>\n      <td>...</td>\n      <td>...</td>\n      <td>...</td>\n      <td>...</td>\n      <td>...</td>\n      <td>...</td>\n      <td>...</td>\n      <td>...</td>\n      <td>...</td>\n      <td>...</td>\n      <td>...</td>\n    </tr>\n    <tr>\n      <th>297</th>\n      <td>0.083951</td>\n      <td>-0.006319</td>\n      <td>0.411098</td>\n      <td>0.035862</td>\n      <td>0.871592</td>\n      <td>0.347173</td>\n      <td>-1.359752</td>\n      <td>0.564471</td>\n      <td>-0.393771</td>\n      <td>0.983035</td>\n      <td>...</td>\n      <td>-0.003468</td>\n      <td>0.211573</td>\n      <td>-0.099552</td>\n      <td>-0.027756</td>\n      <td>-0.068082</td>\n      <td>-0.083969</td>\n      <td>0.020375</td>\n      <td>0.035317</td>\n      <td>0.001593</td>\n      <td>0.011243</td>\n    </tr>\n    <tr>\n      <th>298</th>\n      <td>0.116810</td>\n      <td>0.050058</td>\n      <td>0.377437</td>\n      <td>0.072040</td>\n      <td>0.952760</td>\n      <td>0.401565</td>\n      <td>-1.328874</td>\n      <td>0.679609</td>\n      <td>-0.472371</td>\n      <td>0.962223</td>\n      <td>...</td>\n      <td>0.027647</td>\n      <td>0.206709</td>\n      <td>-0.085877</td>\n      <td>-0.028400</td>\n      <td>-0.062302</td>\n      <td>-0.080332</td>\n      <td>0.019972</td>\n      <td>0.035478</td>\n      <td>0.001493</td>\n      <td>0.010602</td>\n    </tr>\n    <tr>\n      <th>299</th>\n      <td>0.082696</td>\n      <td>0.007195</td>\n      <td>0.389432</td>\n      <td>0.050970</td>\n      <td>1.005426</td>\n      <td>0.387884</td>\n      <td>-1.379863</td>\n      <td>0.664864</td>\n      <td>-0.514361</td>\n      <td>1.043424</td>\n      <td>...</td>\n      <td>0.018082</td>\n      <td>0.208593</td>\n      <td>-0.105632</td>\n      <td>-0.021267</td>\n      <td>-0.059702</td>\n      <td>-0.079310</td>\n      <td>0.018482</td>\n      <td>0.031331</td>\n      <td>0.000025</td>\n      <td>0.014725</td>\n    </tr>\n    <tr>\n      <th>300</th>\n      <td>0.091165</td>\n      <td>-0.035744</td>\n      <td>0.401265</td>\n      <td>0.047803</td>\n      <td>0.972841</td>\n      <td>0.372152</td>\n      <td>-1.408243</td>\n      <td>0.664745</td>\n      <td>-0.480663</td>\n      <td>1.044359</td>\n      <td>...</td>\n      <td>0.020831</td>\n      <td>0.205880</td>\n      <td>-0.092735</td>\n      <td>-0.035035</td>\n      <td>-0.053322</td>\n      <td>-0.079828</td>\n      <td>0.018918</td>\n      <td>0.034200</td>\n      <td>0.000502</td>\n      <td>0.010958</td>\n    </tr>\n    <tr>\n      <th>301</th>\n      <td>0.092000</td>\n      <td>-0.031499</td>\n      <td>0.399864</td>\n      <td>0.048442</td>\n      <td>0.971367</td>\n      <td>0.366155</td>\n      <td>-1.407565</td>\n      <td>0.663057</td>\n      <td>-0.483131</td>\n      <td>1.043745</td>\n      <td>...</td>\n      <td>0.021207</td>\n      <td>0.205444</td>\n      <td>-0.093497</td>\n      <td>-0.034217</td>\n      <td>-0.053765</td>\n      <td>-0.079951</td>\n      <td>0.018875</td>\n      <td>0.034358</td>\n      <td>0.000441</td>\n      <td>0.011194</td>\n    </tr>\n  </tbody>\n</table>\n<p>302 rows × 56 columns</p>\n</div>"
     },
     "execution_count": 11,
     "metadata": {},
     "output_type": "execute_result"
    }
   ],
   "source": [
    "df\n"
   ],
   "metadata": {
    "collapsed": false,
    "pycharm": {
     "name": "#%%\n"
    }
   }
  },
  {
   "cell_type": "code",
   "execution_count": null,
   "outputs": [],
   "source": [],
   "metadata": {
    "collapsed": false,
    "pycharm": {
     "name": "#%%\n"
    }
   }
  }
 ],
 "metadata": {
  "kernelspec": {
   "display_name": "Python 3",
   "language": "python",
   "name": "python3"
  },
  "language_info": {
   "codemirror_mode": {
    "name": "ipython",
    "version": 2
   },
   "file_extension": ".py",
   "mimetype": "text/x-python",
   "name": "python",
   "nbconvert_exporter": "python",
   "pygments_lexer": "ipython2",
   "version": "2.7.6"
  }
 },
 "nbformat": 4,
 "nbformat_minor": 0
}